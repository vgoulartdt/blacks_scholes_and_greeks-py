{
 "cells": [
  {
   "cell_type": "code",
   "execution_count": 57,
   "id": "6b90b984-65d6-44b1-acb6-eaa4c5637c77",
   "metadata": {},
   "outputs": [],
   "source": [
    "from math import exp, log, sqrt\n",
    "from scipy.stats import norm"
   ]
  },
  {
   "cell_type": "code",
   "execution_count": 59,
   "id": "d12c2f9b-751a-4040-b0a7-b7a44bd91dc1",
   "metadata": {},
   "outputs": [],
   "source": [
    "def BSPut(spot, time, strike, expiry, vol, rate):\n",
    "    vol /= 100  # Converting volatility to unit terms\n",
    "    rate /= 100  # Converting interest rate to unit terms\n",
    "\n",
    "    # Calculation of d1 and d2 using the Black-Scholes formula\n",
    "    d1 = (log(spot/strike) + (rate + (vol ** 2) / 2) * (expiry - time)) / (vol * sqrt(expiry - time))\n",
    "    d2 = (log(spot/strike) + (rate - (vol ** 2) / 2) * (expiry - time)) / (vol * sqrt(expiry - time))\n",
    "\n",
    "    # Calculation of the Put option price using Black-Scholes\n",
    "    put_price = -spot * norm.cdf(-d1) + strike * exp(-rate * (expiry - time)) * norm.cdf(-d2)\n",
    "    return put_price"
   ]
  },
  {
   "cell_type": "code",
   "execution_count": 61,
   "id": "a82d1fb4-cc74-4440-9b42-3dbd7ecc6947",
   "metadata": {},
   "outputs": [],
   "source": [
    "# Defining the parameters as provided\n",
    "spot = 100 # spot price\n",
    "strike = 110 # strike price\n",
    "time = 0  # Evaluation at the current moment\n",
    "expiry = 0.5  # 6 months\n",
    "vol = 25  # 25%\n",
    "rate = 3  # 3%"
   ]
  },
  {
   "cell_type": "code",
   "execution_count": 63,
   "id": "f2a59b62-93bb-4199-ae3f-5403d1b17904",
   "metadata": {},
   "outputs": [
    {
     "name": "stdout",
     "output_type": "stream",
     "text": [
      "The price of the Put option is: $12.26\n"
     ]
    }
   ],
   "source": [
    "# Calling the BSPut function with the provided parameters\n",
    "put_price = BSPut(spot, time, strike, expiry, vol, rate)\n",
    "\n",
    "# Displaying the result\n",
    "print(f\"The price of the Put option is: ${put_price:.2f}\")"
   ]
  }
 ],
 "metadata": {
  "kernelspec": {
   "display_name": "anaconda-panel-2023.05-py310",
   "language": "python",
   "name": "conda-env-anaconda-panel-2023.05-py310-py"
  },
  "language_info": {
   "codemirror_mode": {
    "name": "ipython",
    "version": 3
   },
   "file_extension": ".py",
   "mimetype": "text/x-python",
   "name": "python",
   "nbconvert_exporter": "python",
   "pygments_lexer": "ipython3",
   "version": "3.11.5"
  }
 },
 "nbformat": 4,
 "nbformat_minor": 5
}
